{
 "cells": [
  {
   "cell_type": "code",
   "execution_count": 1,
   "metadata": {},
   "outputs": [
    {
     "name": "stdout",
     "output_type": "stream",
     "text": [
      "Collecting nltk\n",
      "  Using cached nltk-3.7-py3-none-any.whl (1.5 MB)\n",
      "Requirement already satisfied, skipping upgrade: click in c:\\users\\lenovo\\anaconda3\\lib\\site-packages (from nltk) (7.0)\n",
      "Requirement already satisfied, skipping upgrade: tqdm in c:\\users\\lenovo\\anaconda3\\lib\\site-packages (from nltk) (4.42.1)\n",
      "Collecting regex>=2021.8.3\n",
      "  Downloading regex-2022.3.15-cp37-cp37m-win_amd64.whl (273 kB)\n",
      "Requirement already satisfied, skipping upgrade: joblib in c:\\users\\lenovo\\anaconda3\\lib\\site-packages (from nltk) (0.14.1)\n",
      "Installing collected packages: regex, nltk\n",
      "  Attempting uninstall: nltk\n",
      "    Found existing installation: nltk 3.4.5\n",
      "    Uninstalling nltk-3.4.5:\n",
      "      Successfully uninstalled nltk-3.4.5\n",
      "Successfully installed nltk-3.7 regex-2022.3.15\n",
      "Requirement already up-to-date: bs4 in c:\\users\\lenovo\\anaconda3\\lib\\site-packages (0.0.1)\n",
      "Requirement already satisfied, skipping upgrade: beautifulsoup4 in c:\\users\\lenovo\\anaconda3\\lib\\site-packages (from bs4) (4.8.2)\n",
      "Requirement already satisfied, skipping upgrade: soupsieve>=1.2 in c:\\users\\lenovo\\anaconda3\\lib\\site-packages (from beautifulsoup4->bs4) (1.9.5)\n"
     ]
    }
   ],
   "source": [
    "!pip install nltk -U\n",
    "!pip install bs4 -U"
   ]
  },
  {
   "cell_type": "code",
   "execution_count": 6,
   "metadata": {},
   "outputs": [
    {
     "name": "stderr",
     "output_type": "stream",
     "text": [
      "[nltk_data] Downloading package stopwords to\n",
      "[nltk_data]     C:\\Users\\lenovo\\AppData\\Roaming\\nltk_data...\n",
      "[nltk_data]   Package stopwords is already up-to-date!\n",
      "[nltk_data] Downloading package punkt to\n",
      "[nltk_data]     C:\\Users\\lenovo\\AppData\\Roaming\\nltk_data...\n",
      "[nltk_data]   Package punkt is already up-to-date!\n",
      "[nltk_data] Downloading package wordnet to\n",
      "[nltk_data]     C:\\Users\\lenovo\\AppData\\Roaming\\nltk_data...\n",
      "[nltk_data]   Package wordnet is already up-to-date!\n",
      "[nltk_data] Downloading package averaged_perceptron_tagger to\n",
      "[nltk_data]     C:\\Users\\lenovo\\AppData\\Roaming\\nltk_data...\n",
      "[nltk_data]   Unzipping taggers\\averaged_perceptron_tagger.zip.\n"
     ]
    },
    {
     "data": {
      "text/plain": [
       "True"
      ]
     },
     "execution_count": 6,
     "metadata": {},
     "output_type": "execute_result"
    }
   ],
   "source": [
    "import nltk\n",
    "nltk.download('stopwords')\n",
    "nltk.download('punkt')\n",
    "nltk.download('wordnet')\n",
    "nltk.download('averaged_perceptron_tagger')"
   ]
  },
  {
   "cell_type": "code",
   "execution_count": 12,
   "metadata": {},
   "outputs": [],
   "source": [
    "import nltk\n",
    "para = '''Many constructions and structures on Raigad were built by Chhatrapati Shivaji Maharaj and Chief\n",
    "        Engineer was Hirojee Indulkar. When Chhatrapati Shivaji Maharaj made it his capital in 1674 upon being \n",
    "        crowned the king of the Maratha kingdom, which later developed into the Maratha Empire, \n",
    "        eventually covering much of western and central India.'''"
   ]
  },
  {
   "cell_type": "code",
   "execution_count": 13,
   "metadata": {},
   "outputs": [
    {
     "name": "stdout",
     "output_type": "stream",
     "text": [
      "Many constructions and structures on Raigad were built by Chhatrapati Shivaji Maharaj and Chief\n",
      "        Engineer was Hirojee Indulkar. When Chhatrapati Shivaji Maharaj made it his capital in 1674 upon being \n",
      "        crowned the king of the Maratha kingdom, which later developed into the Maratha Empire, \n",
      "        eventually covering much of western and central India.\n"
     ]
    }
   ],
   "source": [
    "print(para)"
   ]
  },
  {
   "cell_type": "code",
   "execution_count": 14,
   "metadata": {},
   "outputs": [
    {
     "data": {
      "text/plain": [
       "['Many',\n",
       " 'constructions',\n",
       " 'and',\n",
       " 'structures',\n",
       " 'on',\n",
       " 'Raigad',\n",
       " 'were',\n",
       " 'built',\n",
       " 'by',\n",
       " 'Chhatrapati',\n",
       " 'Shivaji',\n",
       " 'Maharaj',\n",
       " 'and',\n",
       " 'Chief',\n",
       " 'Engineer',\n",
       " 'was',\n",
       " 'Hirojee',\n",
       " 'Indulkar.',\n",
       " 'When',\n",
       " 'Chhatrapati',\n",
       " 'Shivaji',\n",
       " 'Maharaj',\n",
       " 'made',\n",
       " 'it',\n",
       " 'his',\n",
       " 'capital',\n",
       " 'in',\n",
       " '1674',\n",
       " 'upon',\n",
       " 'being',\n",
       " 'crowned',\n",
       " 'the',\n",
       " 'king',\n",
       " 'of',\n",
       " 'the',\n",
       " 'Maratha',\n",
       " 'kingdom,',\n",
       " 'which',\n",
       " 'later',\n",
       " 'developed',\n",
       " 'into',\n",
       " 'the',\n",
       " 'Maratha',\n",
       " 'Empire,',\n",
       " 'eventually',\n",
       " 'covering',\n",
       " 'much',\n",
       " 'of',\n",
       " 'western',\n",
       " 'and',\n",
       " 'central',\n",
       " 'India.']"
      ]
     },
     "execution_count": 14,
     "metadata": {},
     "output_type": "execute_result"
    }
   ],
   "source": [
    "para.split()"
   ]
  },
  {
   "cell_type": "code",
   "execution_count": 15,
   "metadata": {},
   "outputs": [],
   "source": [
    "from nltk.tokenize import sent_tokenize\n",
    "from nltk.tokenize import word_tokenize"
   ]
  },
  {
   "cell_type": "code",
   "execution_count": 16,
   "metadata": {},
   "outputs": [],
   "source": [
    "sent = sent_tokenize(para)"
   ]
  },
  {
   "cell_type": "code",
   "execution_count": 17,
   "metadata": {},
   "outputs": [
    {
     "data": {
      "text/plain": [
       "'When Chhatrapati Shivaji Maharaj made it his capital in 1674 upon being \\n        crowned the king of the Maratha kingdom, which later developed into the Maratha Empire, \\n        eventually covering much of western and central India.'"
      ]
     },
     "execution_count": 17,
     "metadata": {},
     "output_type": "execute_result"
    }
   ],
   "source": [
    "sent[1]"
   ]
  },
  {
   "cell_type": "code",
   "execution_count": 18,
   "metadata": {},
   "outputs": [
    {
     "data": {
      "text/plain": [
       "'Many constructions and structures on Raigad were built by Chhatrapati Shivaji Maharaj and Chief\\n        Engineer was Hirojee Indulkar.'"
      ]
     },
     "execution_count": 18,
     "metadata": {},
     "output_type": "execute_result"
    }
   ],
   "source": [
    "sent[0]"
   ]
  },
  {
   "cell_type": "code",
   "execution_count": 19,
   "metadata": {},
   "outputs": [],
   "source": [
    "words = word_tokenize(para)"
   ]
  },
  {
   "cell_type": "code",
   "execution_count": 20,
   "metadata": {},
   "outputs": [
    {
     "data": {
      "text/plain": [
       "['Many',\n",
       " 'constructions',\n",
       " 'and',\n",
       " 'structures',\n",
       " 'on',\n",
       " 'Raigad',\n",
       " 'were',\n",
       " 'built',\n",
       " 'by',\n",
       " 'Chhatrapati',\n",
       " 'Shivaji',\n",
       " 'Maharaj',\n",
       " 'and',\n",
       " 'Chief',\n",
       " 'Engineer',\n",
       " 'was',\n",
       " 'Hirojee',\n",
       " 'Indulkar',\n",
       " '.',\n",
       " 'When',\n",
       " 'Chhatrapati',\n",
       " 'Shivaji',\n",
       " 'Maharaj',\n",
       " 'made',\n",
       " 'it',\n",
       " 'his',\n",
       " 'capital',\n",
       " 'in',\n",
       " '1674',\n",
       " 'upon',\n",
       " 'being',\n",
       " 'crowned',\n",
       " 'the',\n",
       " 'king',\n",
       " 'of',\n",
       " 'the',\n",
       " 'Maratha',\n",
       " 'kingdom',\n",
       " ',',\n",
       " 'which',\n",
       " 'later',\n",
       " 'developed',\n",
       " 'into',\n",
       " 'the',\n",
       " 'Maratha',\n",
       " 'Empire',\n",
       " ',',\n",
       " 'eventually',\n",
       " 'covering',\n",
       " 'much',\n",
       " 'of',\n",
       " 'western',\n",
       " 'and',\n",
       " 'central',\n",
       " 'India',\n",
       " '.']"
      ]
     },
     "execution_count": 20,
     "metadata": {},
     "output_type": "execute_result"
    }
   ],
   "source": [
    "words"
   ]
  },
  {
   "cell_type": "code",
   "execution_count": 21,
   "metadata": {},
   "outputs": [],
   "source": [
    "from nltk.corpus import stopwords"
   ]
  },
  {
   "cell_type": "code",
   "execution_count": 22,
   "metadata": {},
   "outputs": [],
   "source": [
    "swords = stopwords.words('english')"
   ]
  },
  {
   "cell_type": "code",
   "execution_count": 23,
   "metadata": {},
   "outputs": [
    {
     "data": {
      "text/plain": [
       "['i',\n",
       " 'me',\n",
       " 'my',\n",
       " 'myself',\n",
       " 'we',\n",
       " 'our',\n",
       " 'ours',\n",
       " 'ourselves',\n",
       " 'you',\n",
       " \"you're\",\n",
       " \"you've\",\n",
       " \"you'll\",\n",
       " \"you'd\",\n",
       " 'your',\n",
       " 'yours',\n",
       " 'yourself',\n",
       " 'yourselves',\n",
       " 'he',\n",
       " 'him',\n",
       " 'his',\n",
       " 'himself',\n",
       " 'she',\n",
       " \"she's\",\n",
       " 'her',\n",
       " 'hers',\n",
       " 'herself',\n",
       " 'it',\n",
       " \"it's\",\n",
       " 'its',\n",
       " 'itself',\n",
       " 'they',\n",
       " 'them',\n",
       " 'their',\n",
       " 'theirs',\n",
       " 'themselves',\n",
       " 'what',\n",
       " 'which',\n",
       " 'who',\n",
       " 'whom',\n",
       " 'this',\n",
       " 'that',\n",
       " \"that'll\",\n",
       " 'these',\n",
       " 'those',\n",
       " 'am',\n",
       " 'is',\n",
       " 'are',\n",
       " 'was',\n",
       " 'were',\n",
       " 'be',\n",
       " 'been',\n",
       " 'being',\n",
       " 'have',\n",
       " 'has',\n",
       " 'had',\n",
       " 'having',\n",
       " 'do',\n",
       " 'does',\n",
       " 'did',\n",
       " 'doing',\n",
       " 'a',\n",
       " 'an',\n",
       " 'the',\n",
       " 'and',\n",
       " 'but',\n",
       " 'if',\n",
       " 'or',\n",
       " 'because',\n",
       " 'as',\n",
       " 'until',\n",
       " 'while',\n",
       " 'of',\n",
       " 'at',\n",
       " 'by',\n",
       " 'for',\n",
       " 'with',\n",
       " 'about',\n",
       " 'against',\n",
       " 'between',\n",
       " 'into',\n",
       " 'through',\n",
       " 'during',\n",
       " 'before',\n",
       " 'after',\n",
       " 'above',\n",
       " 'below',\n",
       " 'to',\n",
       " 'from',\n",
       " 'up',\n",
       " 'down',\n",
       " 'in',\n",
       " 'out',\n",
       " 'on',\n",
       " 'off',\n",
       " 'over',\n",
       " 'under',\n",
       " 'again',\n",
       " 'further',\n",
       " 'then',\n",
       " 'once',\n",
       " 'here',\n",
       " 'there',\n",
       " 'when',\n",
       " 'where',\n",
       " 'why',\n",
       " 'how',\n",
       " 'all',\n",
       " 'any',\n",
       " 'both',\n",
       " 'each',\n",
       " 'few',\n",
       " 'more',\n",
       " 'most',\n",
       " 'other',\n",
       " 'some',\n",
       " 'such',\n",
       " 'no',\n",
       " 'nor',\n",
       " 'not',\n",
       " 'only',\n",
       " 'own',\n",
       " 'same',\n",
       " 'so',\n",
       " 'than',\n",
       " 'too',\n",
       " 'very',\n",
       " 's',\n",
       " 't',\n",
       " 'can',\n",
       " 'will',\n",
       " 'just',\n",
       " 'don',\n",
       " \"don't\",\n",
       " 'should',\n",
       " \"should've\",\n",
       " 'now',\n",
       " 'd',\n",
       " 'll',\n",
       " 'm',\n",
       " 'o',\n",
       " 're',\n",
       " 've',\n",
       " 'y',\n",
       " 'ain',\n",
       " 'aren',\n",
       " \"aren't\",\n",
       " 'couldn',\n",
       " \"couldn't\",\n",
       " 'didn',\n",
       " \"didn't\",\n",
       " 'doesn',\n",
       " \"doesn't\",\n",
       " 'hadn',\n",
       " \"hadn't\",\n",
       " 'hasn',\n",
       " \"hasn't\",\n",
       " 'haven',\n",
       " \"haven't\",\n",
       " 'isn',\n",
       " \"isn't\",\n",
       " 'ma',\n",
       " 'mightn',\n",
       " \"mightn't\",\n",
       " 'mustn',\n",
       " \"mustn't\",\n",
       " 'needn',\n",
       " \"needn't\",\n",
       " 'shan',\n",
       " \"shan't\",\n",
       " 'shouldn',\n",
       " \"shouldn't\",\n",
       " 'wasn',\n",
       " \"wasn't\",\n",
       " 'weren',\n",
       " \"weren't\",\n",
       " 'won',\n",
       " \"won't\",\n",
       " 'wouldn',\n",
       " \"wouldn't\"]"
      ]
     },
     "execution_count": 23,
     "metadata": {},
     "output_type": "execute_result"
    }
   ],
   "source": [
    "swords"
   ]
  },
  {
   "cell_type": "code",
   "execution_count": 24,
   "metadata": {},
   "outputs": [],
   "source": [
    "x = [word for word in words if word.lower() not in swords]"
   ]
  },
  {
   "cell_type": "code",
   "execution_count": 25,
   "metadata": {},
   "outputs": [
    {
     "data": {
      "text/plain": [
       "['Many',\n",
       " 'constructions',\n",
       " 'structures',\n",
       " 'Raigad',\n",
       " 'built',\n",
       " 'Chhatrapati',\n",
       " 'Shivaji',\n",
       " 'Maharaj',\n",
       " 'Chief',\n",
       " 'Engineer',\n",
       " 'Hirojee',\n",
       " 'Indulkar',\n",
       " '.',\n",
       " 'Chhatrapati',\n",
       " 'Shivaji',\n",
       " 'Maharaj',\n",
       " 'made',\n",
       " 'capital',\n",
       " '1674',\n",
       " 'upon',\n",
       " 'crowned',\n",
       " 'king',\n",
       " 'Maratha',\n",
       " 'kingdom',\n",
       " ',',\n",
       " 'later',\n",
       " 'developed',\n",
       " 'Maratha',\n",
       " 'Empire',\n",
       " ',',\n",
       " 'eventually',\n",
       " 'covering',\n",
       " 'much',\n",
       " 'western',\n",
       " 'central',\n",
       " 'India',\n",
       " '.']"
      ]
     },
     "execution_count": 25,
     "metadata": {},
     "output_type": "execute_result"
    }
   ],
   "source": [
    "x"
   ]
  },
  {
   "cell_type": "code",
   "execution_count": 26,
   "metadata": {},
   "outputs": [],
   "source": [
    "from nltk.stem import PorterStemmer"
   ]
  },
  {
   "cell_type": "code",
   "execution_count": 27,
   "metadata": {},
   "outputs": [],
   "source": [
    "ps = PorterStemmer()"
   ]
  },
  {
   "cell_type": "code",
   "execution_count": 28,
   "metadata": {},
   "outputs": [
    {
     "data": {
      "text/plain": [
       "'work'"
      ]
     },
     "execution_count": 28,
     "metadata": {},
     "output_type": "execute_result"
    }
   ],
   "source": [
    "ps.stem('working')"
   ]
  },
  {
   "cell_type": "code",
   "execution_count": 29,
   "metadata": {},
   "outputs": [],
   "source": [
    "y = [ps.stem(word) for word in x]"
   ]
  },
  {
   "cell_type": "code",
   "execution_count": 30,
   "metadata": {},
   "outputs": [
    {
     "data": {
      "text/plain": [
       "['mani',\n",
       " 'construct',\n",
       " 'structur',\n",
       " 'raigad',\n",
       " 'built',\n",
       " 'chhatrapati',\n",
       " 'shivaji',\n",
       " 'maharaj',\n",
       " 'chief',\n",
       " 'engin',\n",
       " 'hiroje',\n",
       " 'indulkar',\n",
       " '.',\n",
       " 'chhatrapati',\n",
       " 'shivaji',\n",
       " 'maharaj',\n",
       " 'made',\n",
       " 'capit',\n",
       " '1674',\n",
       " 'upon',\n",
       " 'crown',\n",
       " 'king',\n",
       " 'maratha',\n",
       " 'kingdom',\n",
       " ',',\n",
       " 'later',\n",
       " 'develop',\n",
       " 'maratha',\n",
       " 'empir',\n",
       " ',',\n",
       " 'eventu',\n",
       " 'cover',\n",
       " 'much',\n",
       " 'western',\n",
       " 'central',\n",
       " 'india',\n",
       " '.']"
      ]
     },
     "execution_count": 30,
     "metadata": {},
     "output_type": "execute_result"
    }
   ],
   "source": [
    "y"
   ]
  },
  {
   "cell_type": "code",
   "execution_count": 31,
   "metadata": {},
   "outputs": [],
   "source": [
    "from nltk.stem import WordNetLemmatizer"
   ]
  },
  {
   "cell_type": "code",
   "execution_count": 32,
   "metadata": {},
   "outputs": [],
   "source": [
    "wnl = WordNetLemmatizer()"
   ]
  },
  {
   "cell_type": "code",
   "execution_count": 33,
   "metadata": {},
   "outputs": [
    {
     "name": "stderr",
     "output_type": "stream",
     "text": [
      "[nltk_data] Downloading package omw-1.4 to\n",
      "[nltk_data]     C:\\Users\\lenovo\\AppData\\Roaming\\nltk_data...\n",
      "[nltk_data]   Package omw-1.4 is already up-to-date!\n"
     ]
    },
    {
     "data": {
      "text/plain": [
       "True"
      ]
     },
     "execution_count": 33,
     "metadata": {},
     "output_type": "execute_result"
    }
   ],
   "source": [
    "import nltk\n",
    "nltk.download('omw-1.4')"
   ]
  },
  {
   "cell_type": "code",
   "execution_count": 34,
   "metadata": {},
   "outputs": [
    {
     "data": {
      "text/plain": [
       "'work'"
      ]
     },
     "execution_count": 34,
     "metadata": {},
     "output_type": "execute_result"
    }
   ],
   "source": [
    "wnl.lemmatize('working', pos='v')\n",
    "\n",
    "# a - adjective\n",
    "# n- noun\n",
    "# r - adverb"
   ]
  },
  {
   "cell_type": "code",
   "execution_count": 36,
   "metadata": {},
   "outputs": [
    {
     "name": "stdout",
     "output_type": "stream",
     "text": [
      "went\n",
      "go\n"
     ]
    }
   ],
   "source": [
    "print(ps.stem('went'))\n",
    "print(wnl.lemmatize('went',pos='v'))"
   ]
  },
  {
   "cell_type": "code",
   "execution_count": 38,
   "metadata": {},
   "outputs": [],
   "source": [
    "z = [wnl.lemmatize(word, pos='v') for word in x]"
   ]
  },
  {
   "cell_type": "code",
   "execution_count": 39,
   "metadata": {},
   "outputs": [
    {
     "data": {
      "text/plain": [
       "['Many',\n",
       " 'constructions',\n",
       " 'structure',\n",
       " 'Raigad',\n",
       " 'build',\n",
       " 'Chhatrapati',\n",
       " 'Shivaji',\n",
       " 'Maharaj',\n",
       " 'Chief',\n",
       " 'Engineer',\n",
       " 'Hirojee',\n",
       " 'Indulkar',\n",
       " '.',\n",
       " 'Chhatrapati',\n",
       " 'Shivaji',\n",
       " 'Maharaj',\n",
       " 'make',\n",
       " 'capital',\n",
       " '1674',\n",
       " 'upon',\n",
       " 'crown',\n",
       " 'king',\n",
       " 'Maratha',\n",
       " 'kingdom',\n",
       " ',',\n",
       " 'later',\n",
       " 'develop',\n",
       " 'Maratha',\n",
       " 'Empire',\n",
       " ',',\n",
       " 'eventually',\n",
       " 'cover',\n",
       " 'much',\n",
       " 'western',\n",
       " 'central',\n",
       " 'India',\n",
       " '.']"
      ]
     },
     "execution_count": 39,
     "metadata": {},
     "output_type": "execute_result"
    }
   ],
   "source": [
    "z"
   ]
  },
  {
   "cell_type": "code",
   "execution_count": 40,
   "metadata": {},
   "outputs": [],
   "source": [
    "import string"
   ]
  },
  {
   "cell_type": "code",
   "execution_count": 41,
   "metadata": {},
   "outputs": [
    {
     "data": {
      "text/plain": [
       "'!\"#$%&\\'()*+,-./:;<=>?@[\\\\]^_`{|}~'"
      ]
     },
     "execution_count": 41,
     "metadata": {},
     "output_type": "execute_result"
    }
   ],
   "source": [
    "string.punctuation"
   ]
  },
  {
   "cell_type": "code",
   "execution_count": 43,
   "metadata": {},
   "outputs": [],
   "source": [
    "t = [word for word in words if word not in string.punctuation]"
   ]
  },
  {
   "cell_type": "code",
   "execution_count": 44,
   "metadata": {},
   "outputs": [
    {
     "data": {
      "text/plain": [
       "['Many',\n",
       " 'constructions',\n",
       " 'and',\n",
       " 'structures',\n",
       " 'on',\n",
       " 'Raigad',\n",
       " 'were',\n",
       " 'built',\n",
       " 'by',\n",
       " 'Chhatrapati',\n",
       " 'Shivaji',\n",
       " 'Maharaj',\n",
       " 'and',\n",
       " 'Chief',\n",
       " 'Engineer',\n",
       " 'was',\n",
       " 'Hirojee',\n",
       " 'Indulkar',\n",
       " 'When',\n",
       " 'Chhatrapati',\n",
       " 'Shivaji',\n",
       " 'Maharaj',\n",
       " 'made',\n",
       " 'it',\n",
       " 'his',\n",
       " 'capital',\n",
       " 'in',\n",
       " '1674',\n",
       " 'upon',\n",
       " 'being',\n",
       " 'crowned',\n",
       " 'the',\n",
       " 'king',\n",
       " 'of',\n",
       " 'the',\n",
       " 'Maratha',\n",
       " 'kingdom',\n",
       " 'which',\n",
       " 'later',\n",
       " 'developed',\n",
       " 'into',\n",
       " 'the',\n",
       " 'Maratha',\n",
       " 'Empire',\n",
       " 'eventually',\n",
       " 'covering',\n",
       " 'much',\n",
       " 'of',\n",
       " 'western',\n",
       " 'and',\n",
       " 'central',\n",
       " 'India']"
      ]
     },
     "execution_count": 44,
     "metadata": {},
     "output_type": "execute_result"
    }
   ],
   "source": [
    "t"
   ]
  },
  {
   "cell_type": "code",
   "execution_count": 45,
   "metadata": {},
   "outputs": [],
   "source": [
    "from nltk import pos_tag"
   ]
  },
  {
   "cell_type": "code",
   "execution_count": 46,
   "metadata": {},
   "outputs": [
    {
     "data": {
      "text/plain": [
       "[('Many', 'JJ'),\n",
       " ('constructions', 'NNS'),\n",
       " ('and', 'CC'),\n",
       " ('structures', 'NNS'),\n",
       " ('on', 'IN'),\n",
       " ('Raigad', 'NNP'),\n",
       " ('were', 'VBD'),\n",
       " ('built', 'VBN'),\n",
       " ('by', 'IN'),\n",
       " ('Chhatrapati', 'NNP'),\n",
       " ('Shivaji', 'NNP'),\n",
       " ('Maharaj', 'NNP'),\n",
       " ('and', 'CC'),\n",
       " ('Chief', 'NNP'),\n",
       " ('Engineer', 'NNP'),\n",
       " ('was', 'VBD'),\n",
       " ('Hirojee', 'NNP'),\n",
       " ('Indulkar', 'NNP'),\n",
       " ('When', 'WRB'),\n",
       " ('Chhatrapati', 'NNP'),\n",
       " ('Shivaji', 'NNP'),\n",
       " ('Maharaj', 'NNP'),\n",
       " ('made', 'VBD'),\n",
       " ('it', 'PRP'),\n",
       " ('his', 'PRP$'),\n",
       " ('capital', 'NN'),\n",
       " ('in', 'IN'),\n",
       " ('1674', 'CD'),\n",
       " ('upon', 'IN'),\n",
       " ('being', 'VBG'),\n",
       " ('crowned', 'VBN'),\n",
       " ('the', 'DT'),\n",
       " ('king', 'NN'),\n",
       " ('of', 'IN'),\n",
       " ('the', 'DT'),\n",
       " ('Maratha', 'NNP'),\n",
       " ('kingdom', 'NN'),\n",
       " ('which', 'WDT'),\n",
       " ('later', 'RB'),\n",
       " ('developed', 'VBD'),\n",
       " ('into', 'IN'),\n",
       " ('the', 'DT'),\n",
       " ('Maratha', 'NNP'),\n",
       " ('Empire', 'NNP'),\n",
       " ('eventually', 'RB'),\n",
       " ('covering', 'VBG'),\n",
       " ('much', 'JJ'),\n",
       " ('of', 'IN'),\n",
       " ('western', 'JJ'),\n",
       " ('and', 'CC'),\n",
       " ('central', 'JJ'),\n",
       " ('India', 'NNP')]"
      ]
     },
     "execution_count": 46,
     "metadata": {},
     "output_type": "execute_result"
    }
   ],
   "source": [
    "pos_tag(t)"
   ]
  },
  {
   "cell_type": "code",
   "execution_count": 47,
   "metadata": {},
   "outputs": [],
   "source": [
    "from sklearn.feature_extraction.text import TfidfVectorizer"
   ]
  },
  {
   "cell_type": "code",
   "execution_count": 48,
   "metadata": {},
   "outputs": [],
   "source": [
    "tfidf = TfidfVectorizer()"
   ]
  },
  {
   "cell_type": "code",
   "execution_count": 49,
   "metadata": {},
   "outputs": [],
   "source": [
    "v = tfidf.fit_transform(t)"
   ]
  },
  {
   "cell_type": "code",
   "execution_count": 50,
   "metadata": {},
   "outputs": [
    {
     "data": {
      "text/plain": [
       "(52, 43)"
      ]
     },
     "execution_count": 50,
     "metadata": {},
     "output_type": "execute_result"
    }
   ],
   "source": [
    "v.shape"
   ]
  },
  {
   "cell_type": "code",
   "execution_count": 51,
   "metadata": {},
   "outputs": [
    {
     "data": {
      "text/html": [
       "<div>\n",
       "<style scoped>\n",
       "    .dataframe tbody tr th:only-of-type {\n",
       "        vertical-align: middle;\n",
       "    }\n",
       "\n",
       "    .dataframe tbody tr th {\n",
       "        vertical-align: top;\n",
       "    }\n",
       "\n",
       "    .dataframe thead th {\n",
       "        text-align: right;\n",
       "    }\n",
       "</style>\n",
       "<table border=\"1\" class=\"dataframe\">\n",
       "  <thead>\n",
       "    <tr style=\"text-align: right;\">\n",
       "      <th></th>\n",
       "      <th>0</th>\n",
       "    </tr>\n",
       "  </thead>\n",
       "  <tbody>\n",
       "    <tr>\n",
       "      <th>0</th>\n",
       "      <td>(0, 28)\\t1.0</td>\n",
       "    </tr>\n",
       "    <tr>\n",
       "      <th>1</th>\n",
       "      <td>(0, 9)\\t1.0</td>\n",
       "    </tr>\n",
       "    <tr>\n",
       "      <th>2</th>\n",
       "      <td>(0, 1)\\t1.0</td>\n",
       "    </tr>\n",
       "    <tr>\n",
       "      <th>3</th>\n",
       "      <td>(0, 35)\\t1.0</td>\n",
       "    </tr>\n",
       "    <tr>\n",
       "      <th>4</th>\n",
       "      <td>(0, 32)\\t1.0</td>\n",
       "    </tr>\n",
       "    <tr>\n",
       "      <th>5</th>\n",
       "      <td>(0, 33)\\t1.0</td>\n",
       "    </tr>\n",
       "    <tr>\n",
       "      <th>6</th>\n",
       "      <td>(0, 39)\\t1.0</td>\n",
       "    </tr>\n",
       "    <tr>\n",
       "      <th>7</th>\n",
       "      <td>(0, 3)\\t1.0</td>\n",
       "    </tr>\n",
       "    <tr>\n",
       "      <th>8</th>\n",
       "      <td>(0, 4)\\t1.0</td>\n",
       "    </tr>\n",
       "    <tr>\n",
       "      <th>9</th>\n",
       "      <td>(0, 7)\\t1.0</td>\n",
       "    </tr>\n",
       "    <tr>\n",
       "      <th>10</th>\n",
       "      <td>(0, 34)\\t1.0</td>\n",
       "    </tr>\n",
       "    <tr>\n",
       "      <th>11</th>\n",
       "      <td>(0, 27)\\t1.0</td>\n",
       "    </tr>\n",
       "    <tr>\n",
       "      <th>12</th>\n",
       "      <td>(0, 1)\\t1.0</td>\n",
       "    </tr>\n",
       "    <tr>\n",
       "      <th>13</th>\n",
       "      <td>(0, 8)\\t1.0</td>\n",
       "    </tr>\n",
       "    <tr>\n",
       "      <th>14</th>\n",
       "      <td>(0, 14)\\t1.0</td>\n",
       "    </tr>\n",
       "    <tr>\n",
       "      <th>15</th>\n",
       "      <td>(0, 38)\\t1.0</td>\n",
       "    </tr>\n",
       "    <tr>\n",
       "      <th>16</th>\n",
       "      <td>(0, 16)\\t1.0</td>\n",
       "    </tr>\n",
       "    <tr>\n",
       "      <th>17</th>\n",
       "      <td>(0, 20)\\t1.0</td>\n",
       "    </tr>\n",
       "    <tr>\n",
       "      <th>18</th>\n",
       "      <td>(0, 41)\\t1.0</td>\n",
       "    </tr>\n",
       "    <tr>\n",
       "      <th>19</th>\n",
       "      <td>(0, 7)\\t1.0</td>\n",
       "    </tr>\n",
       "    <tr>\n",
       "      <th>20</th>\n",
       "      <td>(0, 34)\\t1.0</td>\n",
       "    </tr>\n",
       "    <tr>\n",
       "      <th>21</th>\n",
       "      <td>(0, 27)\\t1.0</td>\n",
       "    </tr>\n",
       "    <tr>\n",
       "      <th>22</th>\n",
       "      <td>(0, 26)\\t1.0</td>\n",
       "    </tr>\n",
       "    <tr>\n",
       "      <th>23</th>\n",
       "      <td>(0, 22)\\t1.0</td>\n",
       "    </tr>\n",
       "    <tr>\n",
       "      <th>24</th>\n",
       "      <td>(0, 17)\\t1.0</td>\n",
       "    </tr>\n",
       "    <tr>\n",
       "      <th>25</th>\n",
       "      <td>(0, 5)\\t1.0</td>\n",
       "    </tr>\n",
       "    <tr>\n",
       "      <th>26</th>\n",
       "      <td>(0, 18)\\t1.0</td>\n",
       "    </tr>\n",
       "    <tr>\n",
       "      <th>27</th>\n",
       "      <td>(0, 0)\\t1.0</td>\n",
       "    </tr>\n",
       "    <tr>\n",
       "      <th>28</th>\n",
       "      <td>(0, 37)\\t1.0</td>\n",
       "    </tr>\n",
       "    <tr>\n",
       "      <th>29</th>\n",
       "      <td>(0, 2)\\t1.0</td>\n",
       "    </tr>\n",
       "    <tr>\n",
       "      <th>30</th>\n",
       "      <td>(0, 11)\\t1.0</td>\n",
       "    </tr>\n",
       "    <tr>\n",
       "      <th>31</th>\n",
       "      <td>(0, 36)\\t1.0</td>\n",
       "    </tr>\n",
       "    <tr>\n",
       "      <th>32</th>\n",
       "      <td>(0, 23)\\t1.0</td>\n",
       "    </tr>\n",
       "    <tr>\n",
       "      <th>33</th>\n",
       "      <td>(0, 31)\\t1.0</td>\n",
       "    </tr>\n",
       "    <tr>\n",
       "      <th>34</th>\n",
       "      <td>(0, 36)\\t1.0</td>\n",
       "    </tr>\n",
       "    <tr>\n",
       "      <th>35</th>\n",
       "      <td>(0, 29)\\t1.0</td>\n",
       "    </tr>\n",
       "    <tr>\n",
       "      <th>36</th>\n",
       "      <td>(0, 24)\\t1.0</td>\n",
       "    </tr>\n",
       "    <tr>\n",
       "      <th>37</th>\n",
       "      <td>(0, 42)\\t1.0</td>\n",
       "    </tr>\n",
       "    <tr>\n",
       "      <th>38</th>\n",
       "      <td>(0, 25)\\t1.0</td>\n",
       "    </tr>\n",
       "    <tr>\n",
       "      <th>39</th>\n",
       "      <td>(0, 12)\\t1.0</td>\n",
       "    </tr>\n",
       "    <tr>\n",
       "      <th>40</th>\n",
       "      <td>(0, 21)\\t1.0</td>\n",
       "    </tr>\n",
       "    <tr>\n",
       "      <th>41</th>\n",
       "      <td>(0, 36)\\t1.0</td>\n",
       "    </tr>\n",
       "    <tr>\n",
       "      <th>42</th>\n",
       "      <td>(0, 29)\\t1.0</td>\n",
       "    </tr>\n",
       "    <tr>\n",
       "      <th>43</th>\n",
       "      <td>(0, 13)\\t1.0</td>\n",
       "    </tr>\n",
       "    <tr>\n",
       "      <th>44</th>\n",
       "      <td>(0, 15)\\t1.0</td>\n",
       "    </tr>\n",
       "    <tr>\n",
       "      <th>45</th>\n",
       "      <td>(0, 10)\\t1.0</td>\n",
       "    </tr>\n",
       "    <tr>\n",
       "      <th>46</th>\n",
       "      <td>(0, 30)\\t1.0</td>\n",
       "    </tr>\n",
       "    <tr>\n",
       "      <th>47</th>\n",
       "      <td>(0, 31)\\t1.0</td>\n",
       "    </tr>\n",
       "    <tr>\n",
       "      <th>48</th>\n",
       "      <td>(0, 40)\\t1.0</td>\n",
       "    </tr>\n",
       "    <tr>\n",
       "      <th>49</th>\n",
       "      <td>(0, 1)\\t1.0</td>\n",
       "    </tr>\n",
       "    <tr>\n",
       "      <th>50</th>\n",
       "      <td>(0, 6)\\t1.0</td>\n",
       "    </tr>\n",
       "    <tr>\n",
       "      <th>51</th>\n",
       "      <td>(0, 19)\\t1.0</td>\n",
       "    </tr>\n",
       "  </tbody>\n",
       "</table>\n",
       "</div>"
      ],
      "text/plain": [
       "                 0\n",
       "0     (0, 28)\\t1.0\n",
       "1      (0, 9)\\t1.0\n",
       "2      (0, 1)\\t1.0\n",
       "3     (0, 35)\\t1.0\n",
       "4     (0, 32)\\t1.0\n",
       "5     (0, 33)\\t1.0\n",
       "6     (0, 39)\\t1.0\n",
       "7      (0, 3)\\t1.0\n",
       "8      (0, 4)\\t1.0\n",
       "9      (0, 7)\\t1.0\n",
       "10    (0, 34)\\t1.0\n",
       "11    (0, 27)\\t1.0\n",
       "12     (0, 1)\\t1.0\n",
       "13     (0, 8)\\t1.0\n",
       "14    (0, 14)\\t1.0\n",
       "15    (0, 38)\\t1.0\n",
       "16    (0, 16)\\t1.0\n",
       "17    (0, 20)\\t1.0\n",
       "18    (0, 41)\\t1.0\n",
       "19     (0, 7)\\t1.0\n",
       "20    (0, 34)\\t1.0\n",
       "21    (0, 27)\\t1.0\n",
       "22    (0, 26)\\t1.0\n",
       "23    (0, 22)\\t1.0\n",
       "24    (0, 17)\\t1.0\n",
       "25     (0, 5)\\t1.0\n",
       "26    (0, 18)\\t1.0\n",
       "27     (0, 0)\\t1.0\n",
       "28    (0, 37)\\t1.0\n",
       "29     (0, 2)\\t1.0\n",
       "30    (0, 11)\\t1.0\n",
       "31    (0, 36)\\t1.0\n",
       "32    (0, 23)\\t1.0\n",
       "33    (0, 31)\\t1.0\n",
       "34    (0, 36)\\t1.0\n",
       "35    (0, 29)\\t1.0\n",
       "36    (0, 24)\\t1.0\n",
       "37    (0, 42)\\t1.0\n",
       "38    (0, 25)\\t1.0\n",
       "39    (0, 12)\\t1.0\n",
       "40    (0, 21)\\t1.0\n",
       "41    (0, 36)\\t1.0\n",
       "42    (0, 29)\\t1.0\n",
       "43    (0, 13)\\t1.0\n",
       "44    (0, 15)\\t1.0\n",
       "45    (0, 10)\\t1.0\n",
       "46    (0, 30)\\t1.0\n",
       "47    (0, 31)\\t1.0\n",
       "48    (0, 40)\\t1.0\n",
       "49     (0, 1)\\t1.0\n",
       "50     (0, 6)\\t1.0\n",
       "51    (0, 19)\\t1.0"
      ]
     },
     "execution_count": 51,
     "metadata": {},
     "output_type": "execute_result"
    }
   ],
   "source": [
    "import pandas as pd\n",
    "pd.DataFrame(v)"
   ]
  },
  {
   "cell_type": "code",
   "execution_count": null,
   "metadata": {},
   "outputs": [],
   "source": []
  },
  {
   "cell_type": "code",
   "execution_count": null,
   "metadata": {},
   "outputs": [],
   "source": []
  }
 ],
 "metadata": {
  "kernelspec": {
   "display_name": "Python 3",
   "language": "python",
   "name": "python3"
  },
  "language_info": {
   "codemirror_mode": {
    "name": "ipython",
    "version": 3
   },
   "file_extension": ".py",
   "mimetype": "text/x-python",
   "name": "python",
   "nbconvert_exporter": "python",
   "pygments_lexer": "ipython3",
   "version": "3.7.6"
  }
 },
 "nbformat": 4,
 "nbformat_minor": 4
}
